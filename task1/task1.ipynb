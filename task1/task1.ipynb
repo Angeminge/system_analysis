{
 "cells": [
  {
   "cell_type": "code",
   "execution_count": 2,
   "metadata": {},
   "outputs": [],
   "source": [
    "import pandas as pd"
   ]
  },
  {
   "cell_type": "code",
   "execution_count": 22,
   "metadata": {},
   "outputs": [],
   "source": [
    "df = pd.read_csv('C:/Uchu/Системный анализ/system_analysis/Lesson 1/ex.csv')"
   ]
  },
  {
   "cell_type": "code",
   "execution_count": 23,
   "metadata": {},
   "outputs": [
    {
     "name": "stdout",
     "output_type": "stream",
     "text": [
      "   0  1  2  3  4  5  6  7\n",
      "0  0  1  0  0  0  0  0  0\n",
      "1  1  0  1  1  0  0  0  0\n",
      "2  0  1  0  0  0  0  0  0\n",
      "3  0  1  0  0  1  1  0  0\n",
      "4  0  0  0  1  0  0  1  1\n",
      "5  0  0  0  1  0  0  0  0\n",
      "6  0  0  0  0  1  0  0  0\n",
      "7  0  0  0  0  1  0  0  0\n"
     ]
    }
   ],
   "source": [
    "print(df)"
   ]
  },
  {
   "cell_type": "code",
   "execution_count": 24,
   "metadata": {},
   "outputs": [
    {
     "name": "stdout",
     "output_type": "stream",
     "text": [
      "Соседи вершины 0: [1]\n",
      "Соседи вершины 1: [0, 2, 3]\n",
      "Соседи вершины 2: [1]\n",
      "Соседи вершины 3: [1, 4, 5]\n",
      "Соседи вершины 4: [3, 6, 7]\n",
      "Соседи вершины 5: [3]\n",
      "Соседи вершины 6: [4]\n",
      "Соседи вершины 7: [4]\n"
     ]
    }
   ],
   "source": [
    "import numpy as np\n",
    "\n",
    "adjacency_matrix = np.array(df)\n",
    "\n",
    "num_vertices = adjacency_matrix.shape[0]\n",
    "\n",
    "# Создайте пустой список для хранения соседей каждой вершины\n",
    "neighbors_list = []\n",
    "\n",
    "# Переберите каждую вершину и найдите её соседей\n",
    "for vertex in range(num_vertices):\n",
    "    neighbors = np.where(adjacency_matrix[vertex] == 1)[0]\n",
    "    neighbors_list.append(neighbors)\n",
    "\n",
    "# Выведите список соседей для каждой вершины\n",
    "for vertex, neighbors in enumerate(neighbors_list):\n",
    "    print(f\"Соседи вершины {vertex}: {list(neighbors)}\")"
   ]
  },
  {
   "cell_type": "code",
   "execution_count": null,
   "metadata": {},
   "outputs": [],
   "source": []
  }
 ],
 "metadata": {
  "kernelspec": {
   "display_name": "Python 3",
   "language": "python",
   "name": "python3"
  },
  "language_info": {
   "codemirror_mode": {
    "name": "ipython",
    "version": 3
   },
   "file_extension": ".py",
   "mimetype": "text/x-python",
   "name": "python",
   "nbconvert_exporter": "python",
   "pygments_lexer": "ipython3",
   "version": "3.11.5"
  },
  "orig_nbformat": 4
 },
 "nbformat": 4,
 "nbformat_minor": 2
}
